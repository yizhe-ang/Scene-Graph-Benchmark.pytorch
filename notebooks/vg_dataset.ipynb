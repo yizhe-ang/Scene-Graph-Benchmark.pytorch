{
 "cells": [
  {
   "cell_type": "code",
   "execution_count": 1,
   "source": [
    "import torch\n",
    "import torchvision"
   ],
   "outputs": [],
   "metadata": {}
  },
  {
   "cell_type": "code",
   "execution_count": 2,
   "source": [
    "print(torch.__version__)\n",
    "print(torchvision.__version__)"
   ],
   "outputs": [
    {
     "output_type": "stream",
     "name": "stdout",
     "text": [
      "1.7.1\n",
      "0.8.2+cu101\n"
     ]
    }
   ],
   "metadata": {}
  },
  {
   "cell_type": "code",
   "execution_count": 2,
   "source": [
    "%load_ext autoreload\n",
    "%autoreload 2\n",
    "\n",
    "import os\n",
    "os.chdir('..')"
   ],
   "outputs": [],
   "metadata": {}
  },
  {
   "cell_type": "code",
   "execution_count": 24,
   "source": [
    "from pathlib import Path\n",
    "import json\n",
    "import h5py\n",
    "import numpy as np"
   ],
   "outputs": [],
   "metadata": {}
  },
  {
   "cell_type": "code",
   "execution_count": 5,
   "source": [
    "def load_json(path):\n",
    "    with path.open() as f:\n",
    "        data = json.load(f)\n",
    "\n",
    "    return data"
   ],
   "outputs": [],
   "metadata": {}
  },
  {
   "cell_type": "code",
   "execution_count": 7,
   "source": [
    "datasets_dir = Path(\"datasets\")\n",
    "vg_dir = datasets_dir / 'vg'\n",
    "vg_img_dir = vg_dir / 'VG_100K'\n",
    "\n",
    "vg_json_path = vg_dir / 'VG-SGG-dicts-with-attri.json'\n",
    "vg_h5_path = vg_dir / 'VG-SGG-with-attri.h5'\n",
    "vg_img_data_path = vg_dir / 'image_data.json'\n",
    "\n",
    "vg_json = load_json(vg_json_path)\n",
    "vg_img_data = load_json(vg_img_data_path)"
   ],
   "outputs": [],
   "metadata": {}
  },
  {
   "cell_type": "code",
   "execution_count": 8,
   "source": [
    "vg_json.keys()"
   ],
   "outputs": [
    {
     "output_type": "execute_result",
     "data": {
      "text/plain": [
       "dict_keys(['object_count', 'idx_to_label', 'predicate_to_idx', 'predicate_count', 'idx_to_predicate', 'label_to_idx', 'attribute_count', 'idx_to_attribute', 'attribute_to_idx'])"
      ]
     },
     "metadata": {},
     "execution_count": 8
    }
   ],
   "metadata": {}
  },
  {
   "cell_type": "code",
   "execution_count": 28,
   "source": [
    "len(vg_img_data)"
   ],
   "outputs": [
    {
     "output_type": "execute_result",
     "data": {
      "text/plain": [
       "108073"
      ]
     },
     "metadata": {},
     "execution_count": 28
    }
   ],
   "metadata": {}
  },
  {
   "cell_type": "code",
   "execution_count": 17,
   "source": [
    "vg_img_data[0]"
   ],
   "outputs": [
    {
     "output_type": "execute_result",
     "data": {
      "text/plain": [
       "{'width': 800,\n",
       " 'url': 'https://cs.stanford.edu/people/rak248/VG_100K_2/1.jpg',\n",
       " 'height': 600,\n",
       " 'image_id': 1,\n",
       " 'coco_id': None,\n",
       " 'flickr_id': None,\n",
       " 'anti_prop': 0.0}"
      ]
     },
     "metadata": {},
     "execution_count": 17
    }
   ],
   "metadata": {}
  },
  {
   "cell_type": "code",
   "execution_count": 27,
   "source": [
    "with h5py.File(vg_h5_path, 'r') as f:\n",
    "    keys = f.keys()\n",
    "\n",
    "    for k in keys:\n",
    "        print(f[k])"
   ],
   "outputs": [
    {
     "output_type": "stream",
     "name": "stdout",
     "text": [
      "<HDF5 dataset \"active_object_mask\": shape (1145398, 1), type \"|b1\">\n",
      "<HDF5 dataset \"attributes\": shape (1145398, 10), type \"<i8\">\n",
      "<HDF5 dataset \"boxes_1024\": shape (1145398, 4), type \"<i4\">\n",
      "<HDF5 dataset \"boxes_512\": shape (1145398, 4), type \"<i4\">\n",
      "<HDF5 dataset \"img_to_first_box\": shape (108073,), type \"<i4\">\n",
      "<HDF5 dataset \"img_to_first_rel\": shape (108073,), type \"<i4\">\n",
      "<HDF5 dataset \"img_to_last_box\": shape (108073,), type \"<i4\">\n",
      "<HDF5 dataset \"img_to_last_rel\": shape (108073,), type \"<i4\">\n",
      "<HDF5 dataset \"labels\": shape (1145398, 1), type \"<i8\">\n",
      "<HDF5 dataset \"predicates\": shape (622705, 1), type \"<i8\">\n",
      "<HDF5 dataset \"relationships\": shape (622705, 2), type \"<i4\">\n",
      "<HDF5 dataset \"split\": shape (108073,), type \"<i4\">\n"
     ]
    }
   ],
   "metadata": {}
  },
  {
   "cell_type": "code",
   "execution_count": null,
   "source": [],
   "outputs": [],
   "metadata": {}
  }
 ],
 "metadata": {
  "orig_nbformat": 4,
  "language_info": {
   "name": "python",
   "version": "3.7.11",
   "mimetype": "text/x-python",
   "codemirror_mode": {
    "name": "ipython",
    "version": 3
   },
   "pygments_lexer": "ipython3",
   "nbconvert_exporter": "python",
   "file_extension": ".py"
  },
  "kernelspec": {
   "name": "python3",
   "display_name": "Python 3.7.11 64-bit ('sg_benchmark': conda)"
  },
  "interpreter": {
   "hash": "6a78c192a8aa5bb0d857e89fbb62679c738a78e58993966e22d7eb6a15ec8414"
  }
 },
 "nbformat": 4,
 "nbformat_minor": 2
}